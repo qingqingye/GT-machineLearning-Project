{
 "cells": [
  {
   "cell_type": "code",
   "execution_count": 44,
   "id": "6c9faf87",
   "metadata": {},
   "outputs": [],
   "source": [
    "# Import Packages\n",
    "import pandas as pd\n",
    "import numpy as np"
   ]
  },
  {
   "cell_type": "code",
   "execution_count": 97,
   "id": "13d7009f",
   "metadata": {},
   "outputs": [],
   "source": [
    "# Note that I used left join to keep as many records as possible for now, we will remove some invalid records as data processing goes\n",
    "# For housing price, convert column to row\n",
    "housing_price = pd.read_excel(r'../raw_data/housing_price_by_county_by_month.xlsx')\n",
    "housing_price = housing_price.melt(id_vars=[\"RegionName\", \"State\"], var_name=\"Date\", value_name=\"Price\")\n",
    "housing_price[\"Date\"] = housing_price['Date'].dt.to_period('M')\n",
    "\n",
    "# For housing inventory, convert date to time period and join\n",
    "housing_inventory = pd.read_excel(r'../raw_data/housing_inventory_CA.xlsx')\n",
    "housing_inventory[\"Date\"] = housing_inventory['Date'].dt.to_period('M')\n",
    "price_and_inventory = pd.merge(housing_price, housing_inventory, how = 'left', left_on = ['RegionName','Date'], right_on = ['County', 'Date']) \n",
    "\n",
    "# For unemployment rate, convert string to time series to time period and join\n",
    "unemployment_rate = pd.read_excel(r'../raw_data/unemployment_rate_by_county_by_month.xlsx')\n",
    "unemployment_rate['Date'] = pd.to_datetime(unemployment_rate['Date'], format='%Y-%m')\n",
    "unemployment_rate['Date'] = unemployment_rate['Date'].dt.to_period(freq='M')\n",
    "price_and_inventory_and_unemployment = price_and_inventory.merge(unemployment_rate, how='left', left_on=['RegionName', 'Date'], right_on=['RegionName', 'Date'])\n",
    "\n",
    "#This is the index column from the unemployment table\n",
    "price_and_inventory_and_unemployment = price_and_inventory_and_unemployment.drop(columns='Unnamed: 0')\n",
    "\n",
    "# Get Final dataset\n",
    "final = price_and_inventory_and_unemployment\n",
    "final.to_csv(r'../raw_data/final_dataset.csv')\n"
   ]
  },
  {
   "cell_type": "code",
   "execution_count": null,
   "id": "295a7b3e",
   "metadata": {},
   "outputs": [],
   "source": []
  }
 ],
 "metadata": {
  "kernelspec": {
   "display_name": "Python 3 (ipykernel)",
   "language": "python",
   "name": "python3"
  },
  "language_info": {
   "codemirror_mode": {
    "name": "ipython",
    "version": 3
   },
   "file_extension": ".py",
   "mimetype": "text/x-python",
   "name": "python",
   "nbconvert_exporter": "python",
   "pygments_lexer": "ipython3",
   "version": "3.9.7"
  }
 },
 "nbformat": 4,
 "nbformat_minor": 5
}
